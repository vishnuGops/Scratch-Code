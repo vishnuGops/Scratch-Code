{
 "cells": [
  {
   "cell_type": "code",
   "execution_count": 2,
   "metadata": {},
   "outputs": [],
   "source": [
    "import yfinance as yf\n",
    "import smtplib\n",
    "from email.mime.multipart import MIMEMultipart\n",
    "from email.mime.text import MIMEText\n",
    "import time"
   ]
  },
  {
   "cell_type": "code",
   "execution_count": 3,
   "metadata": {},
   "outputs": [],
   "source": [
    "# Alert Settings\n",
    "ALERT_PRICE_UP = 1.05  # 5% increase threshold\n",
    "ALERT_PRICE_DOWN = 0.95  # 5% decrease threshold\n",
    "CHECK_INTERVAL = 60  # Check interval in seconds\n",
    "\n",
    "# Email Configuration\n",
    "SENDER_EMAIL = 'vishvargops@gmail.com'\n",
    "SENDER_PASSWORD = 'your_password'\n",
    "RECIPIENT_EMAIL = 'recipient@example.com'"
   ]
  },
  {
   "cell_type": "code",
   "execution_count": 4,
   "metadata": {},
   "outputs": [],
   "source": [
    "def send_email_alert(subject, message):\n",
    "    try:\n",
    "        # Set up the email server and authenticate\n",
    "        server = smtplib.SMTP('smtp.gmail.com', 587)\n",
    "        server.starttls()\n",
    "        server.login(SENDER_EMAIL, SENDER_PASSWORD)\n",
    "        \n",
    "        # Craft the message\n",
    "        msg = MIMEMultipart()\n",
    "        msg['From'] = SENDER_EMAIL\n",
    "        msg['To'] = RECIPIENT_EMAIL\n",
    "        msg['Subject'] = subject\n",
    "        msg.attach(MIMEText(message, 'plain'))\n",
    "        \n",
    "        # Send email and close the server connection\n",
    "        server.send_message(msg)\n",
    "        server.quit()\n",
    "        print(f\"Alert sent: {subject}\")\n",
    "    except Exception as e:\n",
    "        print(f\"Failed to send email alert: {e}\")"
   ]
  },
  {
   "cell_type": "code",
   "execution_count": 5,
   "metadata": {},
   "outputs": [],
   "source": [
    "def monitor_stock(ticker):\n",
    "    stock = yf.Ticker(ticker)\n",
    "    initial_price = stock.history(period=\"1d\")['Close'].iloc[0]\n",
    "\n",
    "    print(f\"Monitoring {ticker} - Starting price: {initial_price:.2f}\")\n",
    "\n",
    "    while True:\n",
    "        # Fetch latest stock price\n",
    "        current_price = stock.history(period=\"1d\")['Close'].iloc[0]\n",
    "        print(f\"{ticker} Current price: {current_price:.2f}\")\n",
    "        \n",
    "        # Check for upward movement\n",
    "        if current_price >= initial_price * ALERT_PRICE_UP:\n",
    "            send_email_alert(\n",
    "                f\"{ticker} Price Alert - Up\",\n",
    "                f\"{ticker} has increased by 5% to {current_price:.2f}\"\n",
    "            )\n",
    "            initial_price = current_price  # Reset initial price to avoid repeated alerts\n",
    "\n",
    "        # Check for downward movement\n",
    "        elif current_price <= initial_price * ALERT_PRICE_DOWN:\n",
    "            send_email_alert(\n",
    "                f\"{ticker} Price Alert - Down\",\n",
    "                f\"{ticker} has decreased by 5% to {current_price:.2f}\"\n",
    "            )\n",
    "            initial_price = current_price  # Reset initial price to avoid repeated alerts\n",
    "\n",
    "        # Wait before the next check\n",
    "        time.sleep(CHECK_INTERVAL)\n",
    "\n"
   ]
  },
  {
   "cell_type": "code",
   "execution_count": 6,
   "metadata": {},
   "outputs": [
    {
     "name": "stdout",
     "output_type": "stream",
     "text": [
      "Monitoring AAPL - Starting price: 233.40\n",
      "AAPL Current price: 233.40\n",
      "AAPL Current price: 233.40\n",
      "AAPL Current price: 233.40\n",
      "AAPL Current price: 233.40\n"
     ]
    },
    {
     "ename": "KeyboardInterrupt",
     "evalue": "",
     "output_type": "error",
     "traceback": [
      "\u001b[1;31m---------------------------------------------------------------------------\u001b[0m",
      "\u001b[1;31mKeyboardInterrupt\u001b[0m                         Traceback (most recent call last)",
      "Cell \u001b[1;32mIn[6], line 2\u001b[0m\n\u001b[0;32m      1\u001b[0m \u001b[38;5;66;03m# Run the monitoring function\u001b[39;00m\n\u001b[1;32m----> 2\u001b[0m \u001b[43mmonitor_stock\u001b[49m\u001b[43m(\u001b[49m\u001b[38;5;124;43m'\u001b[39;49m\u001b[38;5;124;43mAAPL\u001b[39;49m\u001b[38;5;124;43m'\u001b[39;49m\u001b[43m)\u001b[49m\n",
      "Cell \u001b[1;32mIn[5], line 29\u001b[0m, in \u001b[0;36mmonitor_stock\u001b[1;34m(ticker)\u001b[0m\n\u001b[0;32m     26\u001b[0m     initial_price \u001b[38;5;241m=\u001b[39m current_price  \u001b[38;5;66;03m# Reset initial price to avoid repeated alerts\u001b[39;00m\n\u001b[0;32m     28\u001b[0m \u001b[38;5;66;03m# Wait before the next check\u001b[39;00m\n\u001b[1;32m---> 29\u001b[0m \u001b[43mtime\u001b[49m\u001b[38;5;241;43m.\u001b[39;49m\u001b[43msleep\u001b[49m\u001b[43m(\u001b[49m\u001b[38;5;241;43m2\u001b[39;49m\u001b[43m)\u001b[49m\n",
      "\u001b[1;31mKeyboardInterrupt\u001b[0m: "
     ]
    }
   ],
   "source": [
    "# Run the monitoring function\n",
    "monitor_stock('AAPL')"
   ]
  },
  {
   "cell_type": "code",
   "execution_count": null,
   "metadata": {},
   "outputs": [],
   "source": []
  }
 ],
 "metadata": {
  "kernelspec": {
   "display_name": ".venv",
   "language": "python",
   "name": "python3"
  },
  "language_info": {
   "codemirror_mode": {
    "name": "ipython",
    "version": 3
   },
   "file_extension": ".py",
   "mimetype": "text/x-python",
   "name": "python",
   "nbconvert_exporter": "python",
   "pygments_lexer": "ipython3",
   "version": "3.12.7"
  }
 },
 "nbformat": 4,
 "nbformat_minor": 2
}
